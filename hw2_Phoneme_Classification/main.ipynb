{
 "cells": [
  {
   "cell_type": "markdown",
   "source": [
    "### 引入库文件"
   ],
   "metadata": {
    "collapsed": false,
    "pycharm": {
     "name": "#%% md\n"
    }
   }
  },
  {
   "cell_type": "code",
   "execution_count": 26,
   "outputs": [],
   "source": [
    "import torch\n",
    "import torch.nn as nn\n",
    "from torch.utils.data import Dataset\n",
    "import numpy as np\n",
    "from torch.utils.data import DataLoader\n",
    "import gc"
   ],
   "metadata": {
    "collapsed": false,
    "pycharm": {
     "name": "#%%\n"
    }
   }
  },
  {
   "cell_type": "markdown",
   "source": [
    "### 参数与随机数种子"
   ],
   "metadata": {
    "collapsed": false,
    "pycharm": {
     "name": "#%% md\n"
    }
   }
  },
  {
   "cell_type": "code",
   "execution_count": 27,
   "outputs": [],
   "source": [
    "config = {\n",
    "    'val_ratio': 0.05,\n",
    "    'batch_size': 128,\n",
    "    'device': 'cuda',\n",
    "    'n_epoch': 30,\n",
    "    'learning_rate': 0.0001,\n",
    "    'model_path': './model.ckpt',\n",
    "}\n",
    "\n",
    "\n",
    "def same_seeds(seed):\n",
    "    torch.manual_seed(seed)\n",
    "    if torch.cuda.is_available():\n",
    "        torch.cuda.manual_seed(seed)\n",
    "        torch.cuda.manual_seed_all(seed)\n",
    "    np.random.seed(seed)\n",
    "    torch.backends.cudnn.benchmark = False\n",
    "    torch.backends.cudnn.deterministic = True"
   ],
   "metadata": {
    "collapsed": false,
    "pycharm": {
     "name": "#%%\n"
    }
   }
  },
  {
   "cell_type": "markdown",
   "metadata": {
    "collapsed": true,
    "pycharm": {
     "name": "#%% md\n"
    }
   },
   "source": [
    "### 处理数据\n"
   ]
  },
  {
   "cell_type": "code",
   "source": [
    "print('读取数据...')\n",
    "\n",
    "data_root = '../data/hw2/'\n",
    "train_data = np.load(data_root + 'train_11.npy')\n",
    "train_label = np.load(data_root + 'train_label_11.npy')\n",
    "test_data = np.load(data_root + 'test_11.npy')\n",
    "\n",
    "print('训练数据大小为： {}'.format(train_data.shape))\n",
    "print('测试数据大小为： {}'.format(test_data.shape))"
   ],
   "metadata": {
    "collapsed": false,
    "pycharm": {
     "name": "#%%\n"
    }
   },
   "execution_count": 28,
   "outputs": [
    {
     "name": "stdout",
     "output_type": "stream",
     "text": [
      "读取数据...\n",
      "训练数据大小为： (1229932, 429)\n",
      "测试数据大小为： (451552, 429)\n"
     ]
    }
   ]
  },
  {
   "cell_type": "code",
   "source": [
    "class TIMITDataset(Dataset):\n",
    "    def __init__(self, X, y=None):\n",
    "        self.data = torch.from_numpy(X).float()\n",
    "        if y is not None:\n",
    "            y = y.astype(np.int)\n",
    "            self.label = torch.LongTensor(y)\n",
    "        else:\n",
    "            self.label = None\n",
    "\n",
    "    def __getitem__(self, idx):\n",
    "        if self.label is not None:\n",
    "            return self.data[idx], self.label[idx]\n",
    "        else:\n",
    "            return self.data[idx]\n",
    "\n",
    "    def __len__(self):\n",
    "        return len(self.data)\n"
   ],
   "metadata": {
    "collapsed": false,
    "pycharm": {
     "name": "#%%\n"
    }
   },
   "execution_count": 29,
   "outputs": []
  },
  {
   "cell_type": "code",
   "execution_count": 30,
   "outputs": [
    {
     "name": "stdout",
     "output_type": "stream",
     "text": [
      "训练集大小： (1168435, 429)\n",
      "验证集大小： (61497, 429)\n"
     ]
    }
   ],
   "source": [
    "VAL_RATIO = config['val_ratio']\n",
    "\n",
    "percent = int(train_data.shape[0] * (1 - VAL_RATIO))\n",
    "train_x, train_y, val_x, val_y = train_data[:percent], train_label[:percent], \\\n",
    "                                 train_data[percent:], train_label[percent:]\n",
    "print('训练集大小： {}'.format(train_x.shape))\n",
    "print('验证集大小： {}'.format(val_x.shape))"
   ],
   "metadata": {
    "collapsed": false,
    "pycharm": {
     "name": "#%%\n"
    }
   }
  },
  {
   "cell_type": "code",
   "execution_count": 31,
   "outputs": [
    {
     "name": "stderr",
     "output_type": "stream",
     "text": [
      "C:\\Users\\Shinelon\\AppData\\Local\\Temp/ipykernel_13904/4124245113.py:5: DeprecationWarning: `np.int` is a deprecated alias for the builtin `int`. To silence this warning, use `int` by itself. Doing this will not modify any behavior and is safe. When replacing `np.int`, you may wish to use e.g. `np.int64` or `np.int32` to specify the precision. If you wish to review your current use, check the release note link for additional information.\n",
      "Deprecated in NumPy 1.20; for more details and guidance: https://numpy.org/devdocs/release/1.20.0-notes.html#deprecations\n",
      "  y = y.astype(np.int)\n"
     ]
    }
   ],
   "source": [
    "BATCH_SIZE = config['batch_size']\n",
    "train_set = TIMITDataset(train_x, train_y)\n",
    "val_set = TIMITDataset(val_x, val_y)\n",
    "train_loader = DataLoader(train_set, batch_size=BATCH_SIZE, shuffle=True)\n",
    "val_loader = DataLoader(val_set, batch_size=BATCH_SIZE, shuffle=False)"
   ],
   "metadata": {
    "collapsed": false,
    "pycharm": {
     "name": "#%%\n"
    }
   }
  },
  {
   "cell_type": "code",
   "execution_count": 32,
   "outputs": [
    {
     "data": {
      "text/plain": "57"
     },
     "execution_count": 32,
     "metadata": {},
     "output_type": "execute_result"
    }
   ],
   "source": [
    "# 释放不需要的变量\n",
    "del train_data, train_label, train_x, train_y, val_x, val_y\n",
    "gc.collect()"
   ],
   "metadata": {
    "collapsed": false,
    "pycharm": {
     "name": "#%%\n"
    }
   }
  },
  {
   "cell_type": "markdown",
   "source": [
    "### 模型模块"
   ],
   "metadata": {
    "collapsed": false
   }
  },
  {
   "cell_type": "code",
   "execution_count": 33,
   "outputs": [],
   "source": [
    "class Classifier(nn.Module):\n",
    "    def __init__(self):\n",
    "        super(Classifier, self).__init__()\n",
    "        self.layer1 = nn.Linear(429, 2048)\n",
    "        self.layer2 = nn.Linear(2048, 2048)\n",
    "        self.layer3 = nn.Linear(2048, 1024)\n",
    "        self.layer4 = nn.Linear(1024, 1024)\n",
    "        self.layer5 = nn.Linear(1024, 512)\n",
    "        self.layer6 = nn.Linear(512, 128)\n",
    "        self.out = nn.Linear(128, 39)\n",
    "\n",
    "        self.act_fn = nn.ReLU()\n",
    "        self.drop = nn.Dropout(0.5)\n",
    "\n",
    "        self.bn1 = nn.BatchNorm1d(2048)\n",
    "        self.bn2 = nn.BatchNorm1d(2048)\n",
    "        self.bn3 = nn.BatchNorm1d(1024)\n",
    "        self.bn4 = nn.BatchNorm1d(1024)\n",
    "        self.bn5 = nn.BatchNorm1d(512)\n",
    "        self.bn6 = nn.BatchNorm1d(128)\n",
    "\n",
    "\n",
    "    def forward(self, x):\n",
    "        x = self.layer1(x)\n",
    "        x = self.bn1(x)\n",
    "        x = self.act_fn(x)\n",
    "        x = self.drop(x)\n",
    "\n",
    "        x = self.layer2(x)\n",
    "        x = self.bn2(x)\n",
    "        x = self.act_fn(x)\n",
    "        x = self.drop(x)\n",
    "\n",
    "        x = self.layer3(x)\n",
    "        x = self.bn3(x)\n",
    "        x = self.act_fn(x)\n",
    "        x = self.drop(x)\n",
    "\n",
    "        x = self.layer4(x)\n",
    "        x = self.bn4(x)\n",
    "        x = self.act_fn(x)\n",
    "        x = self.drop(x)\n",
    "\n",
    "        x = self.layer5(x)\n",
    "        x = self.bn5(x)\n",
    "        x = self.act_fn(x)\n",
    "        x = self.drop(x)\n",
    "\n",
    "        x = self.layer6(x)\n",
    "        x = self.bn6(x)\n",
    "        x = self.act_fn(x)\n",
    "        x = self.drop(x)\n",
    "\n",
    "        x = self.out(x)\n",
    "\n",
    "        return x\n"
   ],
   "metadata": {
    "collapsed": false,
    "pycharm": {
     "name": "#%%\n"
    }
   }
  },
  {
   "cell_type": "markdown",
   "source": [
    "### 训练"
   ],
   "metadata": {
    "collapsed": false,
    "pycharm": {
     "name": "#%% md\n"
    }
   }
  },
  {
   "cell_type": "code",
   "execution_count": 35,
   "outputs": [],
   "source": [
    "same_seeds(233)\n",
    "device = config['device']\n",
    "n_epoch = config['n_epoch']\n",
    "learning_rate = config['learning_rate']\n",
    "model_path = config['model_path']\n",
    "\n",
    "model = Classifier().to(device)\n",
    "criterion = nn.CrossEntropyLoss()\n",
    "optimizer = torch.optim.Adam(model.parameters(), lr=learning_rate)"
   ],
   "metadata": {
    "collapsed": false,
    "pycharm": {
     "name": "#%%\n"
    }
   }
  },
  {
   "cell_type": "code",
   "execution_count": 36,
   "outputs": [
    {
     "name": "stdout",
     "output_type": "stream",
     "text": [
      "[001/030] Train Acc: 0.474353 Loss: 1.842455 | Val Acc: 0.620973 loss: 1.260234\n",
      "saving model with acc 0.621\n",
      "[002/030] Train Acc: 0.577377 Loss: 1.443641 | Val Acc: 0.664699 loss: 1.103806\n",
      "saving model with acc 0.665\n",
      "[003/030] Train Acc: 0.606046 Loss: 1.336517 | Val Acc: 0.684521 loss: 1.033905\n",
      "saving model with acc 0.685\n",
      "[004/030] Train Acc: 0.623466 Loss: 1.272803 | Val Acc: 0.694814 loss: 0.989407\n",
      "saving model with acc 0.695\n",
      "[005/030] Train Acc: 0.635239 Loss: 1.228336 | Val Acc: 0.702099 loss: 0.957638\n",
      "saving model with acc 0.702\n",
      "[006/030] Train Acc: 0.645314 Loss: 1.193012 | Val Acc: 0.706262 loss: 0.937179\n",
      "saving model with acc 0.706\n",
      "[007/030] Train Acc: 0.652792 Loss: 1.164505 | Val Acc: 0.712051 loss: 0.915804\n",
      "saving model with acc 0.712\n",
      "[008/030] Train Acc: 0.659561 Loss: 1.139586 | Val Acc: 0.716767 loss: 0.899467\n",
      "saving model with acc 0.717\n",
      "[009/030] Train Acc: 0.664224 Loss: 1.120646 | Val Acc: 0.718734 loss: 0.882219\n",
      "saving model with acc 0.719\n",
      "[010/030] Train Acc: 0.668926 Loss: 1.101871 | Val Acc: 0.720588 loss: 0.873744\n",
      "saving model with acc 0.721\n",
      "[011/030] Train Acc: 0.674056 Loss: 1.085537 | Val Acc: 0.725824 loss: 0.858666\n",
      "saving model with acc 0.726\n",
      "[012/030] Train Acc: 0.678045 Loss: 1.070081 | Val Acc: 0.726491 loss: 0.855108\n",
      "saving model with acc 0.726\n",
      "[013/030] Train Acc: 0.681587 Loss: 1.055746 | Val Acc: 0.729564 loss: 0.843991\n",
      "saving model with acc 0.730\n",
      "[014/030] Train Acc: 0.685095 Loss: 1.043804 | Val Acc: 0.731223 loss: 0.835380\n",
      "saving model with acc 0.731\n",
      "[015/030] Train Acc: 0.688495 Loss: 1.031930 | Val Acc: 0.734735 loss: 0.828403\n",
      "saving model with acc 0.735\n",
      "[016/030] Train Acc: 0.690669 Loss: 1.021308 | Val Acc: 0.734703 loss: 0.823074\n",
      "[017/030] Train Acc: 0.693583 Loss: 1.011261 | Val Acc: 0.737272 loss: 0.816671\n",
      "saving model with acc 0.737\n",
      "[018/030] Train Acc: 0.696030 Loss: 1.001330 | Val Acc: 0.739727 loss: 0.809100\n",
      "saving model with acc 0.740\n",
      "[019/030] Train Acc: 0.698872 Loss: 0.992060 | Val Acc: 0.740036 loss: 0.810910\n",
      "saving model with acc 0.740\n",
      "[020/030] Train Acc: 0.700744 Loss: 0.983307 | Val Acc: 0.742947 loss: 0.802383\n",
      "saving model with acc 0.743\n",
      "[021/030] Train Acc: 0.702734 Loss: 0.975952 | Val Acc: 0.742329 loss: 0.797947\n",
      "[022/030] Train Acc: 0.704886 Loss: 0.968463 | Val Acc: 0.743288 loss: 0.792694\n",
      "saving model with acc 0.743\n",
      "[023/030] Train Acc: 0.706776 Loss: 0.961081 | Val Acc: 0.745906 loss: 0.790614\n",
      "saving model with acc 0.746\n",
      "[024/030] Train Acc: 0.708947 Loss: 0.953915 | Val Acc: 0.747110 loss: 0.792937\n",
      "saving model with acc 0.747\n",
      "[025/030] Train Acc: 0.710140 Loss: 0.949135 | Val Acc: 0.746654 loss: 0.784579\n",
      "[026/030] Train Acc: 0.711947 Loss: 0.940888 | Val Acc: 0.747728 loss: 0.783092\n",
      "saving model with acc 0.748\n",
      "[027/030] Train Acc: 0.713619 Loss: 0.936346 | Val Acc: 0.748703 loss: 0.781725\n",
      "saving model with acc 0.749\n",
      "[028/030] Train Acc: 0.714991 Loss: 0.929901 | Val Acc: 0.749874 loss: 0.776371\n",
      "saving model with acc 0.750\n",
      "[029/030] Train Acc: 0.716764 Loss: 0.924471 | Val Acc: 0.749646 loss: 0.775422\n",
      "[030/030] Train Acc: 0.718027 Loss: 0.918822 | Val Acc: 0.751240 loss: 0.775216\n",
      "saving model with acc 0.751\n"
     ]
    }
   ],
   "source": [
    "best_acc = 0.0\n",
    "for epoch in range(n_epoch):\n",
    "    train_acc = 0.0\n",
    "    train_loss = 0.0\n",
    "    val_acc = 0.0\n",
    "    val_loss = 0.0\n",
    "\n",
    "    model.train()\n",
    "    for i, data in enumerate(train_loader):\n",
    "        inputs, labels = data\n",
    "        inputs, labels = inputs.to(device), labels.to(device)\n",
    "        optimizer.zero_grad()\n",
    "        outputs = model(inputs)\n",
    "        batch_loss = criterion(outputs, labels)\n",
    "        _, train_pred = torch.max(outputs, 1)  # 输出39个概率，取最大的\n",
    "        batch_loss.backward()\n",
    "        optimizer.step()\n",
    "\n",
    "        train_acc += (train_pred.cpu() == labels.cpu()).sum().item()\n",
    "        train_loss += batch_loss.item()\n",
    "\n",
    "    if len(val_set) > 0:\n",
    "        model.eval()\n",
    "        with torch.no_grad():\n",
    "            for i, data in enumerate(val_loader):\n",
    "                inputs, labels = data\n",
    "                inputs, labels = inputs.to(device), labels.to(device)\n",
    "                outputs = model(inputs)\n",
    "                batch_loss = criterion(outputs, labels)\n",
    "                _, val_pred = torch.max(outputs, 1)\n",
    "\n",
    "                val_acc += (val_pred.cpu() == labels.cpu()).sum().item()\n",
    "                val_loss += batch_loss.item()\n",
    "            print('[{:03d}/{:03d}] Train Acc: {:3.6f} Loss: {:3.6f} | Val Acc: {:3.6f} loss: {:3.6f}'.format(\n",
    "                epoch + 1, n_epoch, train_acc / len(train_set), train_loss / len(train_loader),\n",
    "                val_acc / len(val_set), val_loss / len(val_loader)\n",
    "            ))\n",
    "\n",
    "            if val_acc > best_acc:\n",
    "                best_acc = val_acc\n",
    "                torch.save(model.state_dict(), model_path)\n",
    "                print('saving model with acc {:.3f}'.format(best_acc / len(val_set)))\n",
    "    else:\n",
    "        print('[{:03d}/{:03d}] Train Acc: {:3.6f} Loss: {:3.6f}'.format(\n",
    "            epoch + 1, n_epoch, train_acc / len(train_set), train_loss / len(train_loader)\n",
    "        ))"
   ],
   "metadata": {
    "collapsed": false,
    "pycharm": {
     "name": "#%%\n"
    }
   }
  },
  {
   "cell_type": "markdown",
   "source": [
    "### 测试模块\n"
   ],
   "metadata": {
    "collapsed": false
   }
  },
  {
   "cell_type": "code",
   "execution_count": 37,
   "outputs": [],
   "source": [
    "test_set = TIMITDataset(test_data, None)\n",
    "test_loader = DataLoader(test_set, batch_size=BATCH_SIZE, shuffle=False)\n",
    "\n",
    "model = Classifier().to(device)\n",
    "model.load_state_dict(torch.load(model_path))\n",
    "\n",
    "predict = []\n",
    "model.eval() # set the model to evaluation mode\n",
    "with torch.no_grad():\n",
    "    for i, data in enumerate(test_loader):\n",
    "        inputs = data\n",
    "        inputs = inputs.to(device)\n",
    "        outputs = model(inputs)\n",
    "        _, test_pred = torch.max(outputs, 1) # get the index of the class with the highest probability\n",
    "\n",
    "        for y in test_pred.cpu().numpy():\n",
    "            predict.append(y)\n",
    "            \n",
    "with open('prediction.csv', 'w') as f:\n",
    "    f.write('Id,Class\\n')\n",
    "    for i, y in enumerate(predict):\n",
    "        f.write('{},{}\\n'.format(i, y))"
   ],
   "metadata": {
    "collapsed": false,
    "pycharm": {
     "name": "#%%\n"
    }
   }
  }
 ],
 "metadata": {
  "kernelspec": {
   "name": "pycharm-85e8df4c",
   "language": "python",
   "display_name": "PyCharm (lhy_ML2021Spring)"
  },
  "language_info": {
   "codemirror_mode": {
    "name": "ipython",
    "version": 2
   },
   "file_extension": ".py",
   "mimetype": "text/x-python",
   "name": "python",
   "nbconvert_exporter": "python",
   "pygments_lexer": "ipython2",
   "version": "2.7.6"
  }
 },
 "nbformat": 4,
 "nbformat_minor": 0
}