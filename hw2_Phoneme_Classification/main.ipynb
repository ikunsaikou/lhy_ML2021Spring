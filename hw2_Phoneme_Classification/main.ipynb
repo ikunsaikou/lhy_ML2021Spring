{
 "cells": [
  {
   "cell_type": "markdown",
   "source": [
    "### 引入库文件"
   ],
   "metadata": {
    "collapsed": false,
    "pycharm": {
     "name": "#%% md\n"
    }
   }
  },
  {
   "cell_type": "code",
   "execution_count": 2,
   "outputs": [],
   "source": [
    "import torch\n",
    "import torch.nn as nn\n",
    "from torch.utils.data import Dataset\n",
    "import numpy as np\n",
    "from torch.utils.data import DataLoader\n",
    "import gc"
   ],
   "metadata": {
    "collapsed": false,
    "pycharm": {
     "name": "#%%\n"
    }
   }
  },
  {
   "cell_type": "markdown",
   "source": [
    "### 参数与随机数种子"
   ],
   "metadata": {
    "collapsed": false,
    "pycharm": {
     "name": "#%% md\n"
    }
   }
  },
  {
   "cell_type": "code",
   "execution_count": 3,
   "outputs": [],
   "source": [
    "config = {\n",
    "    'val_ratio': 0.05,\n",
    "    'batch_size': 128,\n",
    "    'device': 'cuda',\n",
    "    'n_epoch': 30,\n",
    "    'learning_rate': 0.0001,\n",
    "    'model_path': './model.ckpt',\n",
    "\n",
    "}\n",
    "\n",
    "\n",
    "def same_seeds(seed):\n",
    "    torch.manual_seed(seed)\n",
    "    if torch.cuda.is_available():\n",
    "        torch.cuda.manual_seed(seed)\n",
    "        torch.cuda.manual_seed_all(seed)\n",
    "    np.random.seed(seed)\n",
    "    torch.backends.cudnn.benchmark = False\n",
    "    torch.backends.cudnn.deterministic = True"
   ],
   "metadata": {
    "collapsed": false,
    "pycharm": {
     "name": "#%%\n"
    }
   }
  },
  {
   "cell_type": "markdown",
   "metadata": {
    "collapsed": true,
    "pycharm": {
     "name": "#%% md\n"
    }
   },
   "source": [
    "### 处理数据\n"
   ]
  },
  {
   "cell_type": "code",
   "source": [
    "print('读取数据...')\n",
    "\n",
    "data_root = '../data/hw2/'\n",
    "train_data = np.load(data_root + 'train_11.npy')\n",
    "train_label = np.load(data_root + 'train_label_11.npy')\n",
    "test_data = np.load(data_root + 'test_11.npy')\n",
    "\n",
    "print('训练数据大小为： {}'.format(train_data.shape))\n",
    "print('测试数据大小为： {}'.format(test_data.shape))"
   ],
   "metadata": {
    "collapsed": false,
    "pycharm": {
     "name": "#%%\n"
    }
   },
   "execution_count": 4,
   "outputs": [
    {
     "name": "stdout",
     "output_type": "stream",
     "text": [
      "读取数据...\n",
      "训练数据大小为： (1229932, 429)\n",
      "测试数据大小为： (451552, 429)\n"
     ]
    }
   ]
  },
  {
   "cell_type": "code",
   "source": [
    "class TIMITDataset(Dataset):\n",
    "    def __init__(self, X, y=None):\n",
    "        self.data = torch.from_numpy(X).float()\n",
    "        if y is not None:\n",
    "            y = y.astype(np.int)\n",
    "            self.label = torch.LongTensor(y)\n",
    "        else:\n",
    "            self.label = None\n",
    "\n",
    "    def __getitem__(self, idx):\n",
    "        if self.label is not None:\n",
    "            return self.data[idx], self.label[idx]\n",
    "        else:\n",
    "            return self.data[idx]\n",
    "\n",
    "    def __len__(self):\n",
    "        return len(self.data)\n"
   ],
   "metadata": {
    "collapsed": false,
    "pycharm": {
     "name": "#%%\n"
    }
   },
   "execution_count": 5,
   "outputs": []
  },
  {
   "cell_type": "code",
   "execution_count": 6,
   "outputs": [
    {
     "name": "stdout",
     "output_type": "stream",
     "text": [
      "训练集大小： (983945, 429)\n",
      "验证集大小： (245987, 429)\n"
     ]
    }
   ],
   "source": [
    "VAL_RATIO = config['val_ratio']\n",
    "\n",
    "percent = int(train_data.shape[0] * (1 - VAL_RATIO))\n",
    "train_x, train_y, val_x, val_y = train_data[:percent], train_label[:percent], \\\n",
    "                                 train_data[percent:], train_label[percent:]\n",
    "print('训练集大小： {}'.format(train_x.shape))\n",
    "print('验证集大小： {}'.format(val_x.shape))"
   ],
   "metadata": {
    "collapsed": false,
    "pycharm": {
     "name": "#%%\n"
    }
   }
  },
  {
   "cell_type": "code",
   "execution_count": 7,
   "outputs": [
    {
     "name": "stderr",
     "output_type": "stream",
     "text": [
      "C:\\Users\\Shinelon\\AppData\\Local\\Temp/ipykernel_13904/4124245113.py:5: DeprecationWarning: `np.int` is a deprecated alias for the builtin `int`. To silence this warning, use `int` by itself. Doing this will not modify any behavior and is safe. When replacing `np.int`, you may wish to use e.g. `np.int64` or `np.int32` to specify the precision. If you wish to review your current use, check the release note link for additional information.\n",
      "Deprecated in NumPy 1.20; for more details and guidance: https://numpy.org/devdocs/release/1.20.0-notes.html#deprecations\n",
      "  y = y.astype(np.int)\n"
     ]
    }
   ],
   "source": [
    "BATCH_SIZE = config['batch_size']\n",
    "train_set = TIMITDataset(train_x, train_y)\n",
    "val_set = TIMITDataset(val_x, val_y)\n",
    "train_loader = DataLoader(train_set, batch_size=BATCH_SIZE, shuffle=True)\n",
    "val_loader = DataLoader(val_set, batch_size=BATCH_SIZE, shuffle=False)"
   ],
   "metadata": {
    "collapsed": false,
    "pycharm": {
     "name": "#%%\n"
    }
   }
  },
  {
   "cell_type": "code",
   "execution_count": 8,
   "outputs": [
    {
     "data": {
      "text/plain": "0"
     },
     "execution_count": 8,
     "metadata": {},
     "output_type": "execute_result"
    }
   ],
   "source": [
    "# 释放不需要的变量\n",
    "del train_data, train_label, train_x, train_y, val_x, val_y\n",
    "gc.collect()"
   ],
   "metadata": {
    "collapsed": false,
    "pycharm": {
     "name": "#%%\n"
    }
   }
  },
  {
   "cell_type": "markdown",
   "source": [
    "### 模型模块"
   ],
   "metadata": {
    "collapsed": false
   }
  },
  {
   "cell_type": "code",
   "execution_count": 9,
   "outputs": [],
   "source": [
    "class Classifier(nn.Module):\n",
    "    def __init__(self):\n",
    "        super(Classifier, self).__init__()\n",
    "        self.layer1 = nn.Linear(429, 1024)\n",
    "        self.layer2 = nn.Linear(1024, 512)\n",
    "        self.layer3 = nn.Linear(512, 128)\n",
    "        self.out = nn.Linear(128, 39)\n",
    "        self.act_fn = nn.Sigmoid()\n",
    "\n",
    "    def forward(self, x):\n",
    "        x = self.layer1(x)\n",
    "        x = self.act_fn(x)\n",
    "\n",
    "        x = self.layer2(x)\n",
    "        x = self.act_fn(x)\n",
    "\n",
    "        x = self.layer3(x)\n",
    "        x = self.act_fn(x)\n",
    "\n",
    "        x = self.out(x)\n",
    "\n",
    "        return x\n"
   ],
   "metadata": {
    "collapsed": false,
    "pycharm": {
     "name": "#%%\n"
    }
   }
  },
  {
   "cell_type": "markdown",
   "source": [
    "### 训练"
   ],
   "metadata": {
    "collapsed": false,
    "pycharm": {
     "name": "#%% md\n"
    }
   }
  },
  {
   "cell_type": "code",
   "execution_count": 10,
   "outputs": [],
   "source": [
    "same_seeds(233)\n",
    "device = config['device']\n",
    "n_epoch = config['n_epoch']\n",
    "learning_rate = config['learning_rate']\n",
    "model_path = config['model_path']\n",
    "\n",
    "model = Classifier().to(device)\n",
    "criterion = nn.CrossEntropyLoss()\n",
    "optimizer = torch.optim.Adam(model.parameters(), lr=learning_rate)"
   ],
   "metadata": {
    "collapsed": false,
    "pycharm": {
     "name": "#%%\n"
    }
   }
  },
  {
   "cell_type": "code",
   "execution_count": 11,
   "outputs": [
    {
     "name": "stdout",
     "output_type": "stream",
     "text": [
      "[001/020] Train Acc: 0.466408 Loss: 1.806859 | Val Acc: 0.565786 loss: 1.433868\n",
      "saving model with acc 0.566\n",
      "[002/020] Train Acc: 0.592470 Loss: 1.334850 | Val Acc: 0.631228 loss: 1.209874\n",
      "saving model with acc 0.631\n",
      "[003/020] Train Acc: 0.643101 Loss: 1.157874 | Val Acc: 0.660767 loss: 1.092948\n",
      "saving model with acc 0.661\n",
      "[004/020] Train Acc: 0.671837 Loss: 1.054092 | Val Acc: 0.673426 loss: 1.046230\n",
      "saving model with acc 0.673\n",
      "[005/020] Train Acc: 0.690976 Loss: 0.984967 | Val Acc: 0.686735 loss: 0.998245\n",
      "saving model with acc 0.687\n",
      "[006/020] Train Acc: 0.704791 Loss: 0.933233 | Val Acc: 0.689248 loss: 0.980688\n",
      "saving model with acc 0.689\n",
      "[007/020] Train Acc: 0.716169 Loss: 0.892637 | Val Acc: 0.693350 loss: 0.963735\n",
      "saving model with acc 0.693\n",
      "[008/020] Train Acc: 0.725534 Loss: 0.858911 | Val Acc: 0.699159 loss: 0.945978\n",
      "saving model with acc 0.699\n",
      "[009/020] Train Acc: 0.733596 Loss: 0.830019 | Val Acc: 0.698586 loss: 0.944525\n",
      "[010/020] Train Acc: 0.740803 Loss: 0.804140 | Val Acc: 0.698118 loss: 0.942698\n",
      "[011/020] Train Acc: 0.747588 Loss: 0.781490 | Val Acc: 0.697712 loss: 0.944038\n",
      "[012/020] Train Acc: 0.753664 Loss: 0.760478 | Val Acc: 0.700021 loss: 0.939775\n",
      "saving model with acc 0.700\n",
      "[013/020] Train Acc: 0.758963 Loss: 0.741623 | Val Acc: 0.701972 loss: 0.935473\n",
      "saving model with acc 0.702\n",
      "[014/020] Train Acc: 0.764176 Loss: 0.723675 | Val Acc: 0.701253 loss: 0.940773\n",
      "[015/020] Train Acc: 0.769272 Loss: 0.706866 | Val Acc: 0.700309 loss: 0.945386\n",
      "[016/020] Train Acc: 0.773754 Loss: 0.691336 | Val Acc: 0.702415 loss: 0.944155\n",
      "saving model with acc 0.702\n",
      "[017/020] Train Acc: 0.778507 Loss: 0.676363 | Val Acc: 0.699931 loss: 0.950880\n",
      "[018/020] Train Acc: 0.783086 Loss: 0.661910 | Val Acc: 0.701887 loss: 0.948627\n",
      "[019/020] Train Acc: 0.786824 Loss: 0.648457 | Val Acc: 0.698720 loss: 0.963758\n",
      "[020/020] Train Acc: 0.791164 Loss: 0.635221 | Val Acc: 0.700870 loss: 0.963508\n"
     ]
    }
   ],
   "source": [
    "best_acc = 0.0\n",
    "for epoch in range(n_epoch):\n",
    "    train_acc = 0.0\n",
    "    train_loss = 0.0\n",
    "    val_acc = 0.0\n",
    "    val_loss = 0.0\n",
    "\n",
    "    model.train()\n",
    "    for i, data in enumerate(train_loader):\n",
    "        inputs, labels = data\n",
    "        inputs, labels = inputs.to(device), labels.to(device)\n",
    "        optimizer.zero_grad()\n",
    "        outputs = model(inputs)\n",
    "        batch_loss = criterion(outputs, labels)\n",
    "        _, train_pred = torch.max(outputs, 1)  # 输出39个概率，取最大的\n",
    "        batch_loss.backward()\n",
    "        optimizer.step()\n",
    "\n",
    "        train_acc += (train_pred.cpu() == labels.cpu()).sum().item()\n",
    "        train_loss += batch_loss.item()\n",
    "\n",
    "    if len(val_set) > 0:\n",
    "        model.eval()\n",
    "        with torch.no_grad():\n",
    "            for i, data in enumerate(val_loader):\n",
    "                inputs, labels = data\n",
    "                inputs, labels = inputs.to(device), labels.to(device)\n",
    "                outputs = model(inputs)\n",
    "                batch_loss = criterion(outputs, labels)\n",
    "                _, val_pred = torch.max(outputs, 1)\n",
    "\n",
    "                val_acc += (val_pred.cpu() == labels.cpu()).sum().item()\n",
    "                val_loss += batch_loss.item()\n",
    "            print('[{:03d}/{:03d}] Train Acc: {:3.6f} Loss: {:3.6f} | Val Acc: {:3.6f} loss: {:3.6f}'.format(\n",
    "                epoch + 1, n_epoch, train_acc / len(train_set), train_loss / len(train_loader),\n",
    "                val_acc / len(val_set), val_loss / len(val_loader)\n",
    "            ))\n",
    "\n",
    "            if val_acc > best_acc:\n",
    "                best_acc = val_acc\n",
    "                torch.save(model.state_dict(), model_path)\n",
    "                print('saving model with acc {:.3f}'.format(best_acc / len(val_set)))\n",
    "    else:\n",
    "        print('[{:03d}/{:03d}] Train Acc: {:3.6f} Loss: {:3.6f}'.format(\n",
    "            epoch + 1, n_epoch, train_acc / len(train_set), train_loss / len(train_loader)\n",
    "        ))"
   ],
   "metadata": {
    "collapsed": false,
    "pycharm": {
     "name": "#%%\n"
    }
   }
  },
  {
   "cell_type": "markdown",
   "source": [
    "### 测试模块\n"
   ],
   "metadata": {
    "collapsed": false
   }
  },
  {
   "cell_type": "code",
   "execution_count": 12,
   "outputs": [],
   "source": [
    "test_set = TIMITDataset(test_data, None)\n",
    "test_loader = DataLoader(test_set, batch_size=BATCH_SIZE, shuffle=False)\n",
    "\n",
    "model = Classifier().to(device)\n",
    "model.load_state_dict(torch.load(model_path))\n",
    "\n",
    "predict = []\n",
    "model.eval() # set the model to evaluation mode\n",
    "with torch.no_grad():\n",
    "    for i, data in enumerate(test_loader):\n",
    "        inputs = data\n",
    "        inputs = inputs.to(device)\n",
    "        outputs = model(inputs)\n",
    "        _, test_pred = torch.max(outputs, 1) # get the index of the class with the highest probability\n",
    "\n",
    "        for y in test_pred.cpu().numpy():\n",
    "            predict.append(y)\n",
    "            \n",
    "with open('prediction.csv', 'w') as f:\n",
    "    f.write('Id,Class\\n')\n",
    "    for i, y in enumerate(predict):\n",
    "        f.write('{},{}\\n'.format(i, y))"
   ],
   "metadata": {
    "collapsed": false,
    "pycharm": {
     "name": "#%%\n"
    }
   }
  }
 ],
 "metadata": {
  "kernelspec": {
   "name": "pycharm-85e8df4c",
   "language": "python",
   "display_name": "PyCharm (lhy_ML2021Spring)"
  },
  "language_info": {
   "codemirror_mode": {
    "name": "ipython",
    "version": 2
   },
   "file_extension": ".py",
   "mimetype": "text/x-python",
   "name": "python",
   "nbconvert_exporter": "python",
   "pygments_lexer": "ipython2",
   "version": "2.7.6"
  }
 },
 "nbformat": 4,
 "nbformat_minor": 0
}