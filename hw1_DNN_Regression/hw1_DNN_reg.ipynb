{
 "cells": [
  {
   "cell_type": "code",
   "execution_count": 15,
   "metadata": {
    "collapsed": true
   },
   "outputs": [],
   "source": [
    "import csv\n",
    "import os\n",
    "import numpy as np\n",
    "import pandas as pd\n",
    "import torch\n",
    "from torch.utils.data import DataLoader, Dataset\n",
    "import torch.nn as nn\n",
    "from sklearn.feature_selection import SelectKBest\n",
    "from sklearn.feature_selection import f_regression"
   ]
  },
  {
   "cell_type": "code",
   "execution_count": 7,
   "outputs": [],
   "source": [
    "path = '../data/hw1/covid.train.csv'\n",
    "test_path = '../data/hw1/covid.test.csv'\n",
    "feats = list(range(40)) + sorted([75, 57, 42, 60, 78, 43, 61, 79, 40, 58, 76, 41, 59, 77])\n",
    "data = pd.read_csv('../data/hw1/covid.train.csv')\n",
    "x = data[data.columns[1:94]]\n",
    "y = data[data.columns[-1]]"
   ],
   "metadata": {
    "collapsed": false,
    "pycharm": {
     "name": "#%%\n"
    }
   }
  },
  {
   "cell_type": "code",
   "execution_count": 15,
   "outputs": [
    {
     "ename": "NameError",
     "evalue": "name 'SelectKBest' is not defined",
     "output_type": "error",
     "traceback": [
      "\u001B[1;31m---------------------------------------------------------------------------\u001B[0m",
      "\u001B[1;31mNameError\u001B[0m                                 Traceback (most recent call last)",
      "\u001B[1;32m~\\AppData\\Local\\Temp/ipykernel_17444/3136160055.py\u001B[0m in \u001B[0;36m<module>\u001B[1;34m\u001B[0m\n\u001B[1;32m----> 1\u001B[1;33m \u001B[0mbestfeatures\u001B[0m \u001B[1;33m=\u001B[0m \u001B[0mSelectKBest\u001B[0m\u001B[1;33m(\u001B[0m\u001B[0mscore_func\u001B[0m\u001B[1;33m=\u001B[0m\u001B[0mf_regression\u001B[0m\u001B[1;33m,\u001B[0m \u001B[0mk\u001B[0m\u001B[1;33m=\u001B[0m\u001B[1;36m5\u001B[0m\u001B[1;33m)\u001B[0m\u001B[1;33m\u001B[0m\u001B[1;33m\u001B[0m\u001B[0m\n\u001B[0m\u001B[0;32m      2\u001B[0m \u001B[0mfit\u001B[0m \u001B[1;33m=\u001B[0m \u001B[0mbestfeatures\u001B[0m\u001B[1;33m.\u001B[0m\u001B[0mfit\u001B[0m\u001B[1;33m(\u001B[0m\u001B[0mx\u001B[0m\u001B[1;33m,\u001B[0m \u001B[0my\u001B[0m\u001B[1;33m)\u001B[0m\u001B[1;33m\u001B[0m\u001B[1;33m\u001B[0m\u001B[0m\n\u001B[0;32m      3\u001B[0m \u001B[0mdfscores\u001B[0m \u001B[1;33m=\u001B[0m \u001B[0mpd\u001B[0m\u001B[1;33m.\u001B[0m\u001B[0mDataFrame\u001B[0m\u001B[1;33m(\u001B[0m\u001B[0mfit\u001B[0m\u001B[1;33m.\u001B[0m\u001B[0mscores_\u001B[0m\u001B[1;33m)\u001B[0m\u001B[1;33m\u001B[0m\u001B[1;33m\u001B[0m\u001B[0m\n\u001B[0;32m      4\u001B[0m \u001B[0mdfcolumns\u001B[0m \u001B[1;33m=\u001B[0m \u001B[0mpd\u001B[0m\u001B[1;33m.\u001B[0m\u001B[0mDataFrame\u001B[0m\u001B[1;33m(\u001B[0m\u001B[0mx\u001B[0m\u001B[1;33m.\u001B[0m\u001B[0mcolumns\u001B[0m\u001B[1;33m)\u001B[0m\u001B[1;33m\u001B[0m\u001B[1;33m\u001B[0m\u001B[0m\n\u001B[0;32m      5\u001B[0m \u001B[1;33m\u001B[0m\u001B[0m\n",
      "\u001B[1;31mNameError\u001B[0m: name 'SelectKBest' is not defined"
     ]
    }
   ],
   "source": [
    "bestfeatures = SelectKBest(score_func=f_regression, k=5)\n",
    "fit = bestfeatures.fit(x, y)\n",
    "dfscores = pd.DataFrame(fit.scores_)\n",
    "dfcolumns = pd.DataFrame(x.columns)\n",
    "\n",
    "featureScores = pd.concat([dfcolumns, dfscores], axis=1)\n",
    "featureScores.columns = ['Specs', 'Score']  #naming the dataframe columns\n",
    "print(featureScores.nlargest(15, 'Score'))  #print 15 best features"
   ],
   "metadata": {
    "collapsed": false,
    "pycharm": {
     "name": "#%%\n"
    }
   }
  },
  {
   "cell_type": "code",
   "execution_count": 6,
   "outputs": [],
   "source": [
    "with open(path, 'r') as fp:\n",
    "    data2 = list(csv.reader(fp))\n",
    "    data2 = np.array(data2[1:])[:, 1:].astype(float)\n",
    "data2 = data2[:, feats]"
   ],
   "metadata": {
    "collapsed": false,
    "pycharm": {
     "name": "#%%\n"
    }
   }
  },
  {
   "cell_type": "code",
   "execution_count": 8,
   "outputs": [],
   "source": [
    "# 数据预处理 & 筛选特征\n",
    "def data_prep(path, mode='train'):\n",
    "    with open(path, 'r') as fp:\n",
    "        data = list(csv.reader(fp))\n",
    "        data = np.array(data[1:])[:, 1:].astype(float)\n",
    "\n",
    "    feats = list(range(40)) + sorted([75, 57, 42, 60, 78, 43, 61, 79, 40, 58, 76, 41, 59, 77])\n",
    "    if mode == 'test':\n",
    "        data = data[:, feats]\n",
    "    else:\n",
    "        target = data[:, -1]\n",
    "        data = data[:, feats]\n",
    "\n",
    "    data[:, 40:] = (data[:, 40:] - np.mean(data[:, 40:], axis=0)) / np.std(data[:, 40:], axis=0)\n",
    "    if mode == 'test':\n",
    "        return data\n",
    "    else:\n",
    "        return data, target"
   ],
   "metadata": {
    "collapsed": false,
    "pycharm": {
     "name": "#%%\n"
    }
   }
  },
  {
   "cell_type": "code",
   "execution_count": 10,
   "outputs": [
    {
     "data": {
      "text/plain": "array([[ 1.        ,  0.        ,  0.        , ..., -0.3176832 ,\n        -0.39147861, -0.35256812],\n       [ 1.        ,  0.        ,  0.        , ..., -0.13449624,\n        -0.4252708 , -0.41037418],\n       [ 1.        ,  0.        ,  0.        , ..., -0.14020198,\n        -0.4039971 , -0.41919541],\n       ...,\n       [ 0.        ,  0.        ,  0.        , ..., -1.06108356,\n        -0.61645386, -0.57179892],\n       [ 0.        ,  0.        ,  0.        , ..., -0.97093074,\n        -0.64099242, -0.58785131],\n       [ 0.        ,  0.        ,  0.        , ..., -1.06543432,\n        -0.67737001, -0.6287395 ]])"
     },
     "execution_count": 10,
     "metadata": {},
     "output_type": "execute_result"
    }
   ],
   "source": [
    "train_x, train_y = data_prep(path, 'train')\n",
    "train_x"
   ],
   "metadata": {
    "collapsed": false,
    "pycharm": {
     "name": "#%%\n"
    }
   }
  },
  {
   "cell_type": "code",
   "execution_count": 21,
   "outputs": [
    {
     "data": {
      "text/plain": "[0.6477536559104919,\n 0.9471188187599182,\n 0.07161778211593628,\n 0.8423126339912415,\n 0.45321375131607056,\n 0.6633135676383972,\n 0.16640186309814453,\n 0.10819387435913086,\n 0.5734816193580627,\n 0.025683343410491943]"
     },
     "execution_count": 21,
     "metadata": {},
     "output_type": "execute_result"
    }
   ],
   "source": [
    "preds = []\n",
    "for i in range(10):\n",
    "    B = torch.rand(1, 1)\n",
    "    preds.append(B.item())\n",
    "preds"
   ],
   "metadata": {
    "collapsed": false,
    "pycharm": {
     "name": "#%%\n"
    }
   }
  },
  {
   "cell_type": "code",
   "execution_count": 26,
   "outputs": [],
   "source": [
    "torch.backends.cudnn.deterministic = True"
   ],
   "metadata": {
    "collapsed": false,
    "pycharm": {
     "name": "#%%\n"
    }
   }
  }
 ],
 "metadata": {
  "kernelspec": {
   "name": "pycharm-85e8df4c",
   "language": "python",
   "display_name": "PyCharm (lhy_ML2021Spring)"
  },
  "language_info": {
   "codemirror_mode": {
    "name": "ipython",
    "version": 2
   },
   "file_extension": ".py",
   "mimetype": "text/x-python",
   "name": "python",
   "nbconvert_exporter": "python",
   "pygments_lexer": "ipython2",
   "version": "2.7.6"
  }
 },
 "nbformat": 4,
 "nbformat_minor": 0
}