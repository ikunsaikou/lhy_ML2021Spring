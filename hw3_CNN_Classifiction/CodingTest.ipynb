{
 "cells": [
  {
   "cell_type": "code",
   "execution_count": 6,
   "metadata": {
    "collapsed": true
   },
   "outputs": [],
   "source": [
    "from torchvision.datasets import DatasetFolder\n",
    "import torchvision.transforms as transform\n",
    "import PIL as Image\n",
    "import torch.nn as nn\n",
    "import numpy as np\n",
    "import torch"
   ]
  },
  {
   "cell_type": "code",
   "execution_count": 3,
   "outputs": [],
   "source": [
    "# loader = lambda x : Image.open(x)"
   ],
   "metadata": {
    "collapsed": false,
    "pycharm": {
     "name": "#%%\n"
    }
   }
  },
  {
   "cell_type": "code",
   "execution_count": null,
   "outputs": [],
   "source": [
    "# train_tfm = transform.Compose([\n",
    "#     transform.RandomCrop([128,128]),\n",
    "#     transform.RandomHorizontalFlip(0.5),\n",
    "#     transform.ColorJitter(brightness=0.5),\n",
    "#     transform.RandomAffine(degrees=20, translate=(0.2,0.2), scale=(0.7,1.3)),\n",
    "#     transform.ToTensor()\n",
    "# ])\n",
    "#\n",
    "# test_tfm = transform.Compose([\n",
    "#     transform.RandomCrop([128, 128]),\n",
    "#     transform.ToTensor()\n",
    "# ])"
   ],
   "metadata": {
    "collapsed": false,
    "pycharm": {
     "name": "#%%\n"
    }
   }
  },
  {
   "cell_type": "code",
   "execution_count": null,
   "outputs": [],
   "source": [
    "# train_path = '../data/hw3/training/labeled'\n",
    "# train_set1 = DatasetFolder(train_path,)"
   ],
   "metadata": {
    "collapsed": false,
    "pycharm": {
     "name": "#%%\n"
    }
   }
  },
  {
   "cell_type": "code",
   "execution_count": 11,
   "outputs": [
    {
     "name": "stdout",
     "output_type": "stream",
     "text": [
      "tensor([[[ 2.8838, -2.9647,  0.0305, -2.3780, -1.4375],\n",
      "         [-0.6128,  0.2459, -5.2516, -1.2583, -1.8970],\n",
      "         [-1.0280, -0.9360, -0.7921, -0.0837,  2.1275],\n",
      "         [ 1.3429, -0.1291,  0.6525,  2.4980, -0.0516]],\n",
      "\n",
      "        [[ 0.6494,  2.1635, -3.3102, -4.5285, -0.9680],\n",
      "         [-1.8440,  1.4655,  4.3897, -2.6680,  4.8173],\n",
      "         [ 2.2430, -3.5258, -0.0485,  0.0939,  1.1195],\n",
      "         [ 0.2597, -1.4783, -3.3671,  4.4973,  1.5946]],\n",
      "\n",
      "        [[ 0.2379, -1.7152,  3.8646,  1.6057,  2.2867],\n",
      "         [ 4.6987,  2.9509,  1.0505, -2.3340, -0.2437],\n",
      "         [-0.8529,  3.8930,  3.2201,  1.3334,  0.0092],\n",
      "         [-2.1052, -2.3994, -0.4358,  0.7527,  4.1492]]])\n",
      "tensor([[[1.0000, 1.0000, 1.0000, 1.0000, 1.0000],\n",
      "         [1.0000, 1.0000, 1.0000, 1.0000, 1.0000],\n",
      "         [1.0000, 1.0000, 1.0000, 1.0000, 1.0000],\n",
      "         [1.0000, 1.0000, 1.0000, 1.0000, 1.0000]],\n",
      "\n",
      "        [[1.0000, 1.0000, 1.0000, 1.0000, 1.0000],\n",
      "         [1.0000, 1.0000, 1.0000, 1.0000, 1.0000],\n",
      "         [1.0000, 1.0000, 1.0000, 1.0000, 1.0000],\n",
      "         [1.0000, 1.0000, 1.0000, 1.0000, 1.0000]],\n",
      "\n",
      "        [[1.0000, 1.0000, 1.0000, 1.0000, 1.0000],\n",
      "         [1.0000, 1.0000, 1.0000, 1.0000, 1.0000],\n",
      "         [1.0000, 1.0000, 1.0000, 1.0000, 1.0000],\n",
      "         [1.0000, 1.0000, 1.0000, 1.0000, 1.0000]]])\n"
     ]
    }
   ],
   "source": [
    "input = torch.randn((3, 4, 5, 6))\n",
    "sum0 = torch.sum(input, dim=3)\n",
    "print(sum0)\n",
    "sm = nn.Softmax(dim=3)\n",
    "output = sm(input)\n",
    "sum = torch.sum(output, dim=3)\n",
    "print(sum)"
   ],
   "metadata": {
    "collapsed": false,
    "pycharm": {
     "name": "#%%\n"
    }
   }
  },
  {
   "cell_type": "code",
   "execution_count": null,
   "outputs": [],
   "source": [],
   "metadata": {
    "collapsed": false,
    "pycharm": {
     "name": "#%%\n"
    }
   }
  }
 ],
 "metadata": {
  "kernelspec": {
   "display_name": "Python 3",
   "language": "python",
   "name": "python3"
  },
  "language_info": {
   "codemirror_mode": {
    "name": "ipython",
    "version": 2
   },
   "file_extension": ".py",
   "mimetype": "text/x-python",
   "name": "python",
   "nbconvert_exporter": "python",
   "pygments_lexer": "ipython2",
   "version": "2.7.6"
  }
 },
 "nbformat": 4,
 "nbformat_minor": 0
}